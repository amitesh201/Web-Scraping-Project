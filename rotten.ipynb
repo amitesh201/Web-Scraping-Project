{
 "cells": [
  {
   "cell_type": "code",
   "execution_count": 212,
   "metadata": {},
   "outputs": [],
   "source": [
    "import urllib.request, urllib.parse, urllib.error\n",
    "from bs4 import BeautifulSoup\n",
    "import ssl\n",
    "import requests\n",
    "\n",
    "#Ignore SSL certificate errors\n",
    "ctx = ssl.create_default_context()\n",
    "ctx.check_hostname = False\n",
    "ctx.verify_mode = ssl.CERT_NONE"
   ]
  },
  {
   "cell_type": "code",
   "execution_count": 276,
   "metadata": {},
   "outputs": [],
   "source": [
    "import csv\n"
   ]
  },
  {
   "cell_type": "code",
   "execution_count": 213,
   "metadata": {},
   "outputs": [],
   "source": [
    "# we need to use a user agent here, because metacritics does not accept bots\n",
    "# we are using a tested go-to user agent here, it can be found online\n",
    "# read more about user agents here:\n",
    "# https://www.scrapehero.com/how-to-fake-and-rotate-user-agents-using-python-3/\n",
    "headers = {'User-Agent': 'Mozilla/5.0 (Macintosh; Intel Mac OS X 10_13_6) AppleWebKit/537.36 (KHTML, like Gecko) Chrome/70.0.3538.77 Safari/537.36'}"
   ]
  },
  {
   "cell_type": "code",
   "execution_count": 214,
   "metadata": {},
   "outputs": [
    {
     "name": "stdout",
     "output_type": "stream",
     "text": [
      "{'The Shawshank Redemption': 'https://www.imdb.com/title/tt0111161/', 'The Godfather': 'https://www.imdb.com/title/tt0068646/', 'The Godfather: Part II': 'https://www.imdb.com/title/tt0071562/', 'The Dark Knight': 'https://www.imdb.com/title/tt0468569/', '12 Angry Men': 'https://www.imdb.com/title/tt0050083/', \"Schindler's List\": 'https://www.imdb.com/title/tt0108052/', 'The Lord of the Rings: The Return of the King': 'https://www.imdb.com/title/tt0167260/', 'Pulp Fiction': 'https://www.imdb.com/title/tt0110912/', 'The Good, the Bad and the Ugly': 'https://www.imdb.com/title/tt0060196/', 'The Lord of the Rings: The Fellowship of the Ring': 'https://www.imdb.com/title/tt0120737/', 'Fight Club': 'https://www.imdb.com/title/tt0137523/', 'Forrest Gump': 'https://www.imdb.com/title/tt0109830/', 'Inception': 'https://www.imdb.com/title/tt1375666/', 'The Lord of the Rings: The Two Towers': 'https://www.imdb.com/title/tt0167261/', 'Star Wars: Episode V - The Empire Strikes Back': 'https://www.imdb.com/title/tt0080684/', 'The Matrix': 'https://www.imdb.com/title/tt0133093/', 'Goodfellas': 'https://www.imdb.com/title/tt0099685/', \"One Flew Over the Cuckoo's Nest\": 'https://www.imdb.com/title/tt0073486/', 'Seven Samurai': 'https://www.imdb.com/title/tt0047478/', 'Se7en': 'https://www.imdb.com/title/tt0114369/', 'Life Is Beautiful': 'https://www.imdb.com/title/tt0118799/', 'City of God': 'https://www.imdb.com/title/tt0317248/', 'The Silence of the Lambs': 'https://www.imdb.com/title/tt0102926/', \"It's a Wonderful Life\": 'https://www.imdb.com/title/tt0038650/', 'Star Wars: Episode IV - A New Hope': 'https://www.imdb.com/title/tt0076759/', 'Saving Private Ryan': 'https://www.imdb.com/title/tt0120815/', 'Spirited Away': 'https://www.imdb.com/title/tt0245429/', 'The Green Mile': 'https://www.imdb.com/title/tt0120689/', 'Interstellar': 'https://www.imdb.com/title/tt0816692/', 'Parasite': 'https://www.imdb.com/title/tt6751668/', 'Léon: The Professional': 'https://www.imdb.com/title/tt0110413/', 'The Usual Suspects': 'https://www.imdb.com/title/tt0114814/', 'Hara-Kiri': 'https://www.imdb.com/title/tt0056058/', 'The Lion King': 'https://www.imdb.com/title/tt0110357/', 'The Pianist': 'https://www.imdb.com/title/tt0253474/', 'Back to the Future': 'https://www.imdb.com/title/tt0088763/', 'Terminator 2: Judgment Day': 'https://www.imdb.com/title/tt0103064/', 'American History X': 'https://www.imdb.com/title/tt0120586/', 'Modern Times': 'https://www.imdb.com/title/tt0027977/', 'Psycho': 'https://www.imdb.com/title/tt0054215/', 'Gladiator': 'https://www.imdb.com/title/tt0172495/', 'City Lights': 'https://www.imdb.com/title/tt0021749/', 'The Departed': 'https://www.imdb.com/title/tt0407887/', 'The Intouchables': 'https://www.imdb.com/title/tt1675434/', 'Whiplash': 'https://www.imdb.com/title/tt2582802/', 'The Prestige': 'https://www.imdb.com/title/tt0482571/', 'Grave of the Fireflies': 'https://www.imdb.com/title/tt0095327/', 'Once Upon a Time in the West': 'https://www.imdb.com/title/tt0064116/', 'Hamilton': 'https://www.imdb.com/title/tt8503618/', 'Casablanca': 'https://www.imdb.com/title/tt0034583/'}\n"
     ]
    }
   ],
   "source": [
    "#for imdb\n",
    "link = 'https://www.imdb.com/chart/top/'\n",
    "#we read the link \n",
    "html = urllib.request.urlopen(link).read()\n",
    "soup = BeautifulSoup(html, 'lxml')\n",
    "#created dictionary to store movies and their links \n",
    "movie_dict = dict()\n",
    "movie = []\n",
    "movie_rating = []\n",
    "movie_links=[]\n",
    "#this loop goes through all the td elements that has class titlecolumn\n",
    "for match_colum1 in soup.find_all('td', class_=\"titleColumn\"):\n",
    "    #retrieves movie name from text in anchor tag \n",
    "    movie_name = match_colum1.a.text\n",
    "    #retireve link in href inside anchor tag\n",
    "    movie_link = match_colum1.a.get('href')\n",
    "    #appends link in movie_links list \n",
    "    movie_links.append('https://www.imdb.com'+movie_link)\n",
    "    movie.append(movie_name)    \n",
    "#goes through this loop to map the movies and links \n",
    "for i in range(0,50):\n",
    "    movie_dict[movie[i]] = movie_links[i]\n",
    "print(movie_dict)"
   ]
  },
  {
   "cell_type": "code",
   "execution_count": 215,
   "metadata": {},
   "outputs": [
    {
     "name": "stdout",
     "output_type": "stream",
     "text": [
      "['drama']\n",
      "['crime', 'drama']\n",
      "['crime', 'drama']\n",
      "['action', 'crime', 'drama']\n",
      "['crime', 'drama']\n",
      "['biography', 'drama', 'history']\n",
      "['action', 'adventure', 'drama']\n",
      "['crime', 'drama']\n",
      "['western']\n",
      "['action', 'adventure', 'drama']\n",
      "['drama']\n",
      "['drama', 'romance']\n",
      "['action', 'adventure', 'sci-fi']\n",
      "['action', 'adventure', 'drama']\n",
      "['action', 'adventure', 'fantasy']\n",
      "['action', 'sci-fi']\n",
      "['biography', 'crime', 'drama']\n",
      "['drama']\n",
      "['action', 'adventure', 'drama']\n",
      "['crime', 'drama', 'mystery']\n",
      "['comedy', 'drama', 'romance']\n",
      "['crime', 'drama']\n",
      "['crime', 'drama', 'thriller']\n",
      "['drama', 'family', 'fantasy']\n",
      "['action', 'adventure', 'fantasy']\n",
      "['drama', 'war']\n",
      "['animation', 'adventure', 'family']\n",
      "['crime', 'drama', 'fantasy']\n",
      "['adventure', 'drama', 'sci-fi']\n",
      "['comedy', 'drama', 'thriller']\n",
      "['action', 'crime', 'drama']\n",
      "['crime', 'mystery', 'thriller']\n",
      "['action', 'drama', 'mystery']\n",
      "['animation', 'adventure', 'drama']\n",
      "['biography', 'drama', 'music']\n",
      "['adventure', 'comedy', 'sci-fi']\n",
      "['action', 'sci-fi']\n",
      "['drama']\n",
      "['comedy', 'drama', 'family']\n",
      "['horror', 'mystery', 'thriller']\n",
      "['action', 'adventure', 'drama']\n",
      "['comedy', 'drama', 'romance']\n",
      "['crime', 'drama', 'thriller']\n",
      "['biography', 'comedy', 'drama']\n",
      "['drama', 'music']\n",
      "['drama', 'mystery', 'sci-fi']\n",
      "['animation', 'drama', 'war']\n",
      "['western']\n",
      "['biography', 'drama', 'history']\n",
      "['drama', 'romance', 'war']\n",
      "{'The Shawshank Redemption': ['drama'], 'The Godfather': ['crime', 'drama'], 'The Godfather: Part II': ['crime', 'drama'], 'The Dark Knight': ['action', 'crime', 'drama'], '12 Angry Men': ['crime', 'drama'], \"Schindler's List\": ['biography', 'drama', 'history'], 'The Lord of the Rings: The Return of the King': ['action', 'adventure', 'drama'], 'Pulp Fiction': ['crime', 'drama'], 'The Good, the Bad and the Ugly': ['western'], 'The Lord of the Rings: The Fellowship of the Ring': ['action', 'adventure', 'drama'], 'Fight Club': ['drama'], 'Forrest Gump': ['drama', 'romance'], 'Inception': ['action', 'adventure', 'sci-fi'], 'The Lord of the Rings: The Two Towers': ['action', 'adventure', 'drama'], 'Star Wars: Episode V - The Empire Strikes Back': ['action', 'adventure', 'fantasy'], 'The Matrix': ['action', 'sci-fi'], 'Goodfellas': ['biography', 'crime', 'drama'], \"One Flew Over the Cuckoo's Nest\": ['drama'], 'Seven Samurai': ['action', 'adventure', 'drama'], 'Se7en': ['crime', 'drama', 'mystery'], 'Life Is Beautiful': ['comedy', 'drama', 'romance'], 'City of God': ['crime', 'drama'], 'The Silence of the Lambs': ['crime', 'drama', 'thriller'], \"It's a Wonderful Life\": ['drama', 'family', 'fantasy'], 'Star Wars: Episode IV - A New Hope': ['action', 'adventure', 'fantasy'], 'Saving Private Ryan': ['drama', 'war'], 'Spirited Away': ['animation', 'adventure', 'family'], 'The Green Mile': ['crime', 'drama', 'fantasy'], 'Interstellar': ['adventure', 'drama', 'sci-fi'], 'Parasite': ['comedy', 'drama', 'thriller'], 'Léon: The Professional': ['action', 'crime', 'drama'], 'The Usual Suspects': ['crime', 'mystery', 'thriller'], 'Hara-Kiri': ['action', 'drama', 'mystery'], 'The Lion King': ['animation', 'adventure', 'drama'], 'The Pianist': ['biography', 'drama', 'music'], 'Back to the Future': ['adventure', 'comedy', 'sci-fi'], 'Terminator 2: Judgment Day': ['action', 'sci-fi'], 'American History X': ['drama'], 'Modern Times': ['comedy', 'drama', 'family'], 'Psycho': ['horror', 'mystery', 'thriller'], 'Gladiator': ['action', 'adventure', 'drama'], 'City Lights': ['comedy', 'drama', 'romance'], 'The Departed': ['crime', 'drama', 'thriller'], 'The Intouchables': ['biography', 'comedy', 'drama'], 'Whiplash': ['drama', 'music'], 'The Prestige': ['drama', 'mystery', 'sci-fi'], 'Grave of the Fireflies': ['animation', 'drama', 'war'], 'Once Upon a Time in the West': ['western'], 'Hamilton': ['biography', 'drama', 'history'], 'Casablanca': ['drama', 'romance', 'war']}\n"
     ]
    }
   ],
   "source": [
    "#dicitionary that will store movie genres\n",
    "movie_genre_dict = dict()\n",
    "import re\n",
    "#we go through keys(movie name) in dict\n",
    "for key in movie_dict:\n",
    "    #key used to access link which is its value which will be opened\n",
    "    html = urllib.request.urlopen(movie_dict[key]).read()\n",
    "    soup = BeautifulSoup(html, 'lxml')\n",
    "    #we get all the div elements\n",
    "    genres =soup.find('div', class_='subtext')\n",
    "    #list that will store the genres as single movie has multiple genres \n",
    "    genre_list=[]\n",
    "    for genre in genres.find_all('a'):\n",
    "        #regex is used to exclude elements retrieved in genres that we don't need \n",
    "        if not re.findall('(^[0-9])+',genre.text):\n",
    "            #genre stored in list\n",
    "            genre_list.append(genre.text.lower())\n",
    "    #list mapped to movie \n",
    "    movie_genre_dict[key] = genre_list\n",
    "print(movie_genre_dict)\n",
    "\n"
   ]
  },
  {
   "cell_type": "code",
   "execution_count": 285,
   "metadata": {},
   "outputs": [],
   "source": [
    "#this code stores the movies and genre in csv file with columns Movie and Genre \n",
    "csv_columns = ['Movie','Genre']\n",
    "with open('imdb.csv', 'w') as f:\n",
    "    writer = csv.writer(f)\n",
    "    writer.writerow(csv_columns)\n",
    "    for key in movie_genre_dict:\n",
    "        for genre in movie_genre_dict[key]:\n",
    "            writer.writerow([key,genre])\n",
    "f.close()"
   ]
  },
  {
   "cell_type": "code",
   "execution_count": 257,
   "metadata": {},
   "outputs": [
    {
     "name": "stdout",
     "output_type": "stream",
     "text": [
      "{'Citizen Kane': 'https://www.metacritic.com/movie/citizen-kane', 'The Godfather': 'https://www.metacritic.com/movie/the-godfather', 'Rear Window': 'https://www.metacritic.com/movie/rear-window', 'Casablanca': 'https://www.metacritic.com/movie/casablanca', 'Boyhood': 'https://www.metacritic.com/movie/boyhood', 'Three Colors: Red': 'https://www.metacritic.com/movie/three-colors-red', 'Vertigo': 'https://www.metacritic.com/movie/vertigo', 'Notorious': 'https://www.metacritic.com/movie/notorious-1946', \"Singin' in the Rain\": 'https://www.metacritic.com/movie/singin-in-the-rain', 'City Lights': 'https://www.metacritic.com/movie/city-lights', 'Moonlight': 'https://www.metacritic.com/movie/moonlight-2016', 'Intolerance': 'https://www.metacritic.com/movie/intolerance', 'Pinocchio': 'https://www.metacritic.com/movie/pinocchio-1940', 'Touch of Evil': 'https://www.metacritic.com/movie/touch-of-evil', 'The Treasure of the Sierra Madre': 'https://www.metacritic.com/movie/the-treasure-of-the-sierra-madre', \"Pan's Labyrinth\": 'https://www.metacritic.com/movie/pans-labyrinth', 'Some Like It Hot': 'https://www.metacritic.com/movie/some-like-it-hot', 'North by Northwest': 'https://www.metacritic.com/movie/north-by-northwest', 'Hoop Dreams': 'https://www.metacritic.com/movie/hoop-dreams', 'Rashomon': 'https://www.metacritic.com/movie/rashomon', 'All About Eve': 'https://www.metacritic.com/movie/all-about-eve', 'Jules and Jim': 'https://www.metacritic.com/movie/jules-and-jim', 'The Wild Bunch': 'https://www.metacritic.com/movie/the-wild-bunch', 'My Left Foot': 'https://www.metacritic.com/movie/my-left-foot', 'The Third Man': 'https://www.metacritic.com/movie/the-third-man', 'Dr. Strangelove or: How I Learned to Stop Worrying and Love the Bomb': 'https://www.metacritic.com/movie/dr-strangelove-or-how-i-learned-to-stop-worrying-and-love-the-bomb', 'Nomadland': 'https://www.metacritic.com/movie/nomadland', 'Gone with the Wind': 'https://www.metacritic.com/movie/gone-with-the-wind', '4 Months, 3 Weeks and 2 Days': 'https://www.metacritic.com/movie/4-months-3-weeks-and-2-days', 'Psycho': 'https://www.metacritic.com/movie/psycho-1960', 'Battleship Potemkin': 'https://www.metacritic.com/movie/battleship-potemkin', 'A Streetcar Named Desire': 'https://www.metacritic.com/movie/a-streetcar-named-desire', 'American Graffiti': 'https://www.metacritic.com/movie/american-graffiti', 'Dumbo': 'https://www.metacritic.com/movie/dumbo-1941', 'Roma': 'https://www.metacritic.com/movie/roma', 'Ran': 'https://www.metacritic.com/movie/ran', 'The Shop Around the Corner': 'https://www.metacritic.com/movie/the-shop-around-the-corner', '12 Angry Men': 'https://www.metacritic.com/movie/12-angry-men', 'Manchester by the Sea': 'https://www.metacritic.com/movie/manchester-by-the-sea', \"Rosemary's Baby\": 'https://www.metacritic.com/movie/rosemarys-baby', 'The Maltese Falcon': 'https://www.metacritic.com/movie/the-maltese-falcon', '12 Years a Slave': 'https://www.metacritic.com/movie/12-years-a-slave', 'Killer of Sheep': 'https://www.metacritic.com/movie/killer-of-sheep', 'Rocks': 'https://www.metacritic.com/movie/rocks', 'Nashville': 'https://www.metacritic.com/movie/nashville', 'Ratatouille': 'https://www.metacritic.com/movie/ratatouille', 'Parasite': 'https://www.metacritic.com/movie/parasite', \"Don't Look Now\": 'https://www.metacritic.com/movie/dont-look-now', 'The Grapes of Wrath': 'https://www.metacritic.com/movie/the-grapes-of-wrath', 'Children of Paradise (1945)': 'https://www.metacritic.com/movie/children-of-paradise', 'Mean Streets': 'https://www.metacritic.com/movie/mean-streets', 'The Lady Eve': 'https://www.metacritic.com/movie/the-lady-eve', 'Gravity': 'https://www.metacritic.com/movie/gravity', 'Fantasia': 'https://www.metacritic.com/movie/fantasia', 'Spirited Away': 'https://www.metacritic.com/movie/spirited-away', 'Beauty and the Beast': 'https://www.metacritic.com/movie/beauty-and-the-beast-1991', 'Small Axe: Lovers Rock': 'https://www.metacritic.com/movie/lovers-rock', 'Toy Story': 'https://www.metacritic.com/movie/toy-story', 'The Bride of Frankenstein': 'https://www.metacritic.com/movie/the-bride-of-frankenstein', 'The Social Network': 'https://www.metacritic.com/movie/the-social-network', 'My Fair Lady': 'https://www.metacritic.com/movie/my-fair-lady', 'Portrait of a Lady on Fire': 'https://www.metacritic.com/movie/portrait-of-a-lady-on-fire', 'I Am Not Your Negro': 'https://www.metacritic.com/movie/i-am-not-your-negro', 'Woodstock': 'https://www.metacritic.com/movie/woodstock-1970', 'Double Indemnity': 'https://www.metacritic.com/movie/double-indemnity', 'Collective': 'https://www.metacritic.com/movie/collective', 'Snow White and the Seven Dwarfs': 'https://www.metacritic.com/movie/snow-white-and-the-seven-dwarfs', 'The Hurt Locker': 'https://www.metacritic.com/movie/the-hurt-locker', 'Anatomy of a Murder': 'https://www.metacritic.com/movie/anatomy-of-a-murder', 'Zero Dark Thirty': 'https://www.metacritic.com/movie/zero-dark-thirty', 'A Separation': 'https://www.metacritic.com/movie/a-separation', 'WALL-E': 'https://www.metacritic.com/movie/wall-e', 'Carol': 'https://www.metacritic.com/movie/carol', 'Before Midnight': 'https://www.metacritic.com/movie/before-midnight', 'Amour': 'https://www.metacritic.com/movie/amour', 'Dunkirk': 'https://www.metacritic.com/movie/dunkirk', 'The Man Who Shot Liberty Valance': 'https://www.metacritic.com/movie/the-man-who-shot-liberty-valance', 'The Searchers': 'https://www.metacritic.com/movie/the-searchers', '45 Years': 'https://www.metacritic.com/movie/45-years', 'Taxi Driver': 'https://www.metacritic.com/movie/taxi-driver', 'Pulp Fiction': 'https://www.metacritic.com/movie/pulp-fiction', 'The Manchurian Candidate': 'https://www.metacritic.com/movie/the-manchurian-candidate-1962', 'Mr. Turner': 'https://www.metacritic.com/movie/mr-turner', 'The Irishman': 'https://www.metacritic.com/movie/the-irishman', 'Grave of the Fireflies (1988)': 'https://www.metacritic.com/movie/grave-of-the-fireflies', 'The Wild Child': 'https://www.metacritic.com/movie/the-wild-child', 'Amazing Grace': 'https://www.metacritic.com/movie/amazing-grace-1972', 'Shadow of a Doubt': 'https://www.metacritic.com/movie/shadow-of-a-doubt', 'Inside Out': 'https://www.metacritic.com/movie/inside-out-2015', 'Sideways': 'https://www.metacritic.com/movie/sideways', \"Schindler's List\": 'https://www.metacritic.com/movie/schindlers-list', 'Meet Me in St. Louis': 'https://www.metacritic.com/movie/meet-me-in-st-louis', 'The Apartment': 'https://www.metacritic.com/movie/the-apartment', 'Apocalypse Now': 'https://www.metacritic.com/movie/apocalypse-now', 'The Gunfighter': 'https://www.metacritic.com/movie/the-gunfighter', 'We Were Here': 'https://www.metacritic.com/movie/we-were-here', 'Lady Bird': 'https://www.metacritic.com/movie/lady-bird', 'Chimes at Midnight': 'https://www.metacritic.com/movie/chimes-at-midnight', 'The Lord of the Rings: The Return of the King': 'https://www.metacritic.com/movie/the-lord-of-the-rings-the-return-of-the-king', 'Carlos': 'https://www.metacritic.com/movie/carlos'}\n"
     ]
    }
   ],
   "source": [
    "#what we did for imdb is done here for metacritic\n",
    "link = 'https://www.metacritic.com/browse/movies/score/metascore/all/filtered?sort=desc'\n",
    "page = requests.get(link, headers = headers)\n",
    "soup = BeautifulSoup(page.content, \"html.parser\")\n",
    "#dictionary created to pair movies and the links \n",
    "metacritic_links = dict()\n",
    "#all the td with clam-summary-wrap class are scrapped with all the elements they contain\n",
    "for match_colum1 in soup.find_all('td', class_=\"clamp-summary-wrap\"):\n",
    "    #we retrive movie name\n",
    "    movie_name = match_colum1.h3.text\n",
    "    #link of movie stored in href\n",
    "    movie_link = match_colum1.a.get('href')\n",
    "    #since we need only movie genre we exclude last 15 characters which is there to direct u to reviews page \n",
    "    movie_link = movie_link[:-15]\n",
    "    #we append the movie link to site link to access the site and pair it with movie name \n",
    "    metacritic_links[movie_name] = 'https://www.metacritic.com'+movie_link\n",
    "print(metacritic_links)\n",
    "   "
   ]
  },
  {
   "cell_type": "code",
   "execution_count": 273,
   "metadata": {},
   "outputs": [
    {
     "name": "stdout",
     "output_type": "stream",
     "text": [
      "{'Citizen Kane': ['Drama', 'Mystery'], 'The Godfather': ['Drama', 'Thriller', 'Crime'], 'Rear Window': ['Mystery', 'Thriller'], 'Casablanca': ['Drama', 'Romance', 'War'], 'Boyhood': ['Drama'], 'Three Colors: Red': ['Drama', 'Mystery', 'Romance'], 'Vertigo': ['Mystery', 'Thriller', 'Romance'], 'Notorious': ['Drama', 'Thriller', 'Romance', 'Film-Noir'], \"Singin' in the Rain\": ['Comedy', 'Romance', 'Musical'], 'City Lights': ['Drama', 'Comedy', 'Romance'], 'Moonlight': ['Drama'], 'Intolerance': ['Drama', 'History'], 'Pinocchio': ['Fantasy', 'Comedy', 'Animation', 'Family', 'Musical'], 'Touch of Evil': ['Drama', 'Thriller', 'Crime', 'Film-Noir'], 'The Treasure of the Sierra Madre': ['Adventure', 'Drama', 'Western'], \"Pan's Labyrinth\": ['Drama', 'Mystery', 'Thriller', 'Fantasy', 'War'], 'Some Like It Hot': ['Comedy', 'Romance'], 'North by Northwest': ['Action', 'Adventure', 'Mystery', 'Thriller'], 'Hoop Dreams': ['Drama', 'Sport', 'Documentary'], 'Rashomon': ['Drama', 'Mystery', 'Crime'], 'All About Eve': ['Drama'], 'Jules and Jim': ['Drama', 'Romance'], 'The Wild Bunch': ['Action', 'Adventure', 'Western'], 'My Left Foot': ['Biography', 'Drama'], 'The Third Man': ['Mystery', 'Thriller', 'Film-Noir'], 'Dr. Strangelove or: How I Learned to Stop Worrying and Love the Bomb': ['Drama', 'Thriller'], 'Nomadland': ['Drama'], 'Gone with the Wind': ['Drama', 'History', 'Romance', 'War'], '4 Months, 3 Weeks and 2 Days': ['Drama'], 'Psycho': ['Mystery', 'Thriller', 'Horror'], 'Battleship Potemkin': ['Drama', 'History', 'Thriller', 'War'], 'A Streetcar Named Desire': ['Drama'], 'American Graffiti': ['Drama', 'Comedy'], 'Dumbo': ['Drama', 'Animation', 'Family', 'Musical'], 'Roma': ['Drama'], 'Ran': ['Action', 'Drama', 'War'], 'The Shop Around the Corner': ['Drama', 'Comedy', 'Romance'], '12 Angry Men': ['Drama', 'Crime'], 'Manchester by the Sea': ['Drama'], \"Rosemary's Baby\": ['Drama', 'Horror'], 'The Maltese Falcon': ['Mystery', 'Film-Noir'], '12 Years a Slave': ['Biography', 'Drama', 'History'], 'Killer of Sheep': ['Drama'], 'Rocks': ['Drama'], 'Nashville': ['Drama', 'Comedy', 'Music'], 'Ratatouille': ['Fantasy', 'Comedy', 'Animation', 'Family'], 'Parasite': ['Drama', 'Thriller', 'Comedy'], \"Don't Look Now\": ['Drama', 'Thriller', 'Horror'], 'The Grapes of Wrath': ['Drama', 'History'], 'Children of Paradise (1945)': ['Drama', 'Romance'], 'Mean Streets': ['Drama', 'Thriller', 'Crime'], 'The Lady Eve': ['Comedy', 'Romance'], 'Gravity': ['Sci-Fi', 'Drama', 'Mystery', 'Thriller'], 'Fantasia': ['Fantasy', 'Music', 'Animation', 'Family'], 'Spirited Away': ['Adventure', 'Fantasy', 'Animation', 'Family'], 'Beauty and the Beast': ['Fantasy', 'Romance', 'Animation', 'Family', 'Musical'], 'Small Axe: Lovers Rock': ['Drama'], 'Toy Story': ['Adventure', 'Fantasy', 'Comedy', 'Animation', 'Family'], 'The Bride of Frankenstein': ['Sci-Fi', 'Drama', 'Horror'], 'The Social Network': ['Biography', 'Drama', 'History', 'Comedy'], 'My Fair Lady': ['Drama', 'Romance', 'Family', 'Musical'], 'Portrait of a Lady on Fire': ['Drama', 'History', 'Romance'], 'I Am Not Your Negro': ['Documentary'], 'Woodstock': ['History', 'Music', 'Documentary'], 'Double Indemnity': ['Drama', 'Mystery', 'Thriller', 'Crime', 'Film-Noir'], 'Collective': ['Documentary'], 'Snow White and the Seven Dwarfs': ['Fantasy', 'Romance', 'Animation', 'Family', 'Musical'], 'The Hurt Locker': ['Action', 'Drama', 'Thriller', 'War'], 'Anatomy of a Murder': ['Drama', 'Mystery', 'Thriller', 'Crime'], 'Zero Dark Thirty': ['Action', 'Drama', 'History', 'Thriller'], 'A Separation': ['Drama'], 'WALL-E': ['Adventure', 'Sci-Fi', 'Romance', 'Animation', 'Family'], 'Carol': ['Drama', 'Romance'], 'Before Midnight': ['Drama', 'Romance'], 'Amour': ['Drama', 'Romance'], 'Dunkirk': ['Action', 'Drama', 'History', 'Thriller', 'War'], 'The Man Who Shot Liberty Valance': ['Drama', 'Western'], 'The Searchers': ['Adventure', 'Drama', 'Western'], '45 Years': ['Drama', 'Romance'], 'Taxi Driver': ['Drama', 'Thriller', 'Crime'], 'Pulp Fiction': ['Drama', 'Thriller', 'Crime'], 'The Manchurian Candidate': ['Drama', 'Mystery', 'Thriller'], 'Mr. Turner': ['Biography', 'Drama', 'History'], 'The Irishman': ['Biography', 'Drama', 'History', 'Thriller', 'Crime'], 'Grave of the Fireflies (1988)': ['Drama', 'War', 'Animation'], 'The Wild Child': ['Drama'], 'Amazing Grace': ['Documentary'], 'Shadow of a Doubt': ['Thriller'], 'Inside Out': ['Adventure', 'Drama', 'Fantasy', 'Comedy', 'Animation', 'Family'], 'Sideways': ['Drama', 'Comedy', 'Romance'], \"Schindler's List\": ['Biography', 'Drama', 'History', 'War'], 'Meet Me in St. Louis': ['Drama', 'Comedy', 'Romance', 'Music', 'Family'], 'The Apartment': ['Drama', 'Comedy', 'Romance'], 'Apocalypse Now': ['Action', 'Drama', 'War'], 'The Gunfighter': ['Western'], 'We Were Here': ['Documentary'], 'Lady Bird': ['Drama', 'Comedy'], 'Chimes at Midnight': ['Drama', 'History', 'Comedy', 'War'], 'The Lord of the Rings: The Return of the King': ['Action', 'Adventure', 'Fantasy'], 'Carlos': ['Biography', 'Drama', 'History', 'Thriller', 'Crime']}\n"
     ]
    }
   ],
   "source": [
    "#here we create dict to pair movie with genres\n",
    "metacritic = dict()\n",
    "for key in metacritic_links:\n",
    "    page = requests.get(metacritic_links[key], headers = headers)\n",
    "    soup = BeautifulSoup(page.content, \"html.parser\")\n",
    "    genres =soup.find('div', class_='genres')\n",
    "    raw = genres.find_all('span')[1].text\n",
    "    genres_arr = []\n",
    "    #here we have done cleaning cause the genres retrieved contained whitespace and new line character\n",
    "    for genre in raw.split(','):\n",
    "        genre = genre.replace(' ','')\n",
    "        genre = genre.replace('\\n','')\n",
    "        genres_arr.append(genre)\n",
    "    #after cleaning genres and storing it in genre list we pair it with movie name and store it in dictionary\n",
    "    metacritic[key]=genres_arr\n",
    "print(metacritic)\n",
    "    "
   ]
  },
  {
   "cell_type": "code",
   "execution_count": 286,
   "metadata": {},
   "outputs": [],
   "source": [
    "#here we have stored all the dictionary values that had movie and genre in a csv file \n",
    "csv_columns = ['Movie','Genre']\n",
    "with open('metacritic.csv', 'w') as f:\n",
    "    writer = csv.writer(f)\n",
    "    writer.writerow(csv_columns)\n",
    "    for key in metacritic:\n",
    "        for genre in metacritic[key]:\n",
    "            writer.writerow([key,genre])\n",
    "f.close()"
   ]
  },
  {
   "cell_type": "code",
   "execution_count": 274,
   "metadata": {},
   "outputs": [
    {
     "name": "stdout",
     "output_type": "stream",
     "text": [
      "{'Black Panther (2018)': 'https://www.rottentomatoes.com/m/black_panther_2018', 'Avengers: Endgame (2019)': 'https://www.rottentomatoes.com/m/avengers_endgame', 'Us (2019)': 'https://www.rottentomatoes.com/m/us_2019', 'Toy Story 4 (2019)': 'https://www.rottentomatoes.com/m/toy_story_4', 'Lady Bird (2017)': 'https://www.rottentomatoes.com/m/lady_bird', 'Citizen Kane (1941)': 'https://www.rottentomatoes.com/m/citizen_kane', 'Mission: Impossible - Fallout (2018)': 'https://www.rottentomatoes.com/m/mission_impossible_fallout', 'The Wizard of Oz (1939)': 'https://www.rottentomatoes.com/m/the_wizard_of_oz_1939', 'BlacKkKlansman (2018)': 'https://www.rottentomatoes.com/m/blackkklansman', 'Get Out (2017)': 'https://www.rottentomatoes.com/m/get_out', 'The Irishman (2019)': 'https://www.rottentomatoes.com/m/the_irishman', 'Mad Max: Fury Road (2015)': 'https://www.rottentomatoes.com/m/mad_max_fury_road', 'Spider-Man: Into the Spider-Verse (2018)': 'https://www.rottentomatoes.com/m/spider_man_into_the_spider_verse', 'Casablanca (1942)': 'https://www.rottentomatoes.com/m/1003707-casablanca', 'Moonlight (2016)': 'https://www.rottentomatoes.com/m/moonlight_2016', 'A Star Is Born (2018)': 'https://www.rottentomatoes.com/m/a_star_is_born_2018', 'Wonder Woman (2017)': 'https://www.rottentomatoes.com/m/wonder_woman_2017', 'Dunkirk (2017)': 'https://www.rottentomatoes.com/m/dunkirk_2017', 'Inside Out (2015)': 'https://www.rottentomatoes.com/m/inside_out_2015', 'The Farewell (2019)': 'https://www.rottentomatoes.com/m/the_farewell_2019', 'A Quiet Place (2018)': 'https://www.rottentomatoes.com/m/a_quiet_place_2018', 'Modern Times (1936)': 'https://www.rottentomatoes.com/m/modern_times', 'Eighth Grade (2018)': 'https://www.rottentomatoes.com/m/eighth_grade', 'It Happened One Night (1934)': 'https://www.rottentomatoes.com/m/it_happened_one_night', 'Booksmart (2019)': 'https://www.rottentomatoes.com/m/booksmart', 'A Night at the Opera (1935)': 'https://www.rottentomatoes.com/m/1015002-night_at_the_opera', 'Roma (2018)': 'https://www.rottentomatoes.com/m/roma_2018', 'The Third Man (1949)': 'https://www.rottentomatoes.com/m/the_third_man', 'Coco (2017)': 'https://www.rottentomatoes.com/m/coco_2017', 'Thor: Ragnarok (2017)': 'https://www.rottentomatoes.com/m/thor_ragnarok_2017', 'The Shape of Water (2017)': 'https://www.rottentomatoes.com/m/the_shape_of_water_2017', 'Spotlight (2015)': 'https://www.rottentomatoes.com/m/spotlight_2015', 'Selma (2014)': 'https://www.rottentomatoes.com/m/selma', 'The Godfather (1972)': 'https://www.rottentomatoes.com/m/godfather', 'La Grande illusion (Grand Illusion) (1938)': 'https://www.rottentomatoes.com/m/la_grande_illusion', 'Arrival (2016)': 'https://www.rottentomatoes.com/m/arrival_2016', \"Singin' in the Rain (1952)\": 'https://www.rottentomatoes.com/m/singin_in_the_rain', 'Snow White and the Seven Dwarfs (1937)': 'https://www.rottentomatoes.com/m/1048445-snow_white_and_the_seven_dwarfs', 'Logan (2017)': 'https://www.rottentomatoes.com/m/logan_2017', 'The Cabinet of Dr. Caligari (Das Cabinet des Dr. Caligari) (1920)': 'https://www.rottentomatoes.com/m/the_cabinet_of_dr_caligari', 'Double Indemnity (1944)': 'https://www.rottentomatoes.com/m/double_indemnity', 'The Favourite (2018)': 'https://www.rottentomatoes.com/m/the_favourite_2018', 'The Big Sick (2017)': 'https://www.rottentomatoes.com/m/the_big_sick', 'Spider-Man: Far From Home (2019)': 'https://www.rottentomatoes.com/m/spider_man_far_from_home', 'E.T. The Extra-Terrestrial (1982)': 'https://www.rottentomatoes.com/m/et_the_extraterrestrial', 'Star Wars: The Last Jedi (2017)': 'https://www.rottentomatoes.com/m/star_wars_the_last_jedi', 'All About Eve (1950)': 'https://www.rottentomatoes.com/m/1000626-all_about_eve', 'Shadow of a Doubt (1943)': 'https://www.rottentomatoes.com/m/1018688-shadow_of_a_doubt', 'The Kid (1921)': 'https://www.rottentomatoes.com/m/1052609-kid', 'Paddington 2 (2018)': 'https://www.rottentomatoes.com/m/paddington_2'}\n"
     ]
    }
   ],
   "source": [
    "#same thing we did for metacritic and imdb is done for rotten tomatoes\n",
    "link = 'https://www.rottentomatoes.com/top/bestofrt/'\n",
    "html = urllib.request.urlopen(link).read()\n",
    "soup = BeautifulSoup(html, 'lxml')\n",
    "movie_dict = dict()\n",
    "count = 0\n",
    "#here we scrape the table elements \n",
    "match_colum1 = soup.find('table', class_=\"table\")\n",
    "for match in match_colum1.find_all('a', class_='unstyled articleLink'):\n",
    "    movie = match.text\n",
    "    #done to remove white space in movie name\n",
    "    movie = movie.lstrip()\n",
    "    #movie link stored here\n",
    "    movie_link = 'https://www.rottentomatoes.com'+match.get('href')\n",
    "    count+=1\n",
    "    if count < 51:\n",
    "        #pairing of movie link with movie is done and its stored in dictionary\n",
    "        movie_dict[movie] = movie_link\n",
    "print(movie_dict)"
   ]
  },
  {
   "cell_type": "code",
   "execution_count": 275,
   "metadata": {},
   "outputs": [
    {
     "name": "stdout",
     "output_type": "stream",
     "text": [
      "{'Black Panther (2018)': ['fantasy', 'action', 'adventure'], 'Avengers: Endgame (2019)': ['fantasy', 'adventure', 'scifi', 'action'], 'Us (2019)': ['horror', 'mysteryandthriller'], 'Toy Story 4 (2019)': ['fantasy', 'kidsandfamily', 'animation', 'adventure', 'comedy'], 'Lady Bird (2017)': ['drama', 'comedy'], 'Citizen Kane (1941)': ['drama'], 'Mission: Impossible - Fallout (2018)': ['adventure', 'mysteryandthriller', 'action'], 'The Wizard of Oz (1939)': ['musical', 'kidsandfamily', 'fantasy'], 'BlacKkKlansman (2018)': ['drama', 'comedy', 'crime'], 'Get Out (2017)': ['horror', 'mysteryandthriller', 'comedy'], 'The Irishman (2019)': ['drama', 'crime'], 'Mad Max: Fury Road (2015)': ['adventure', 'action'], 'Spider-Man: Into the Spider-Verse (2018)': ['fantasy', 'comedy', 'kidsandfamily', 'animation', 'adventure', 'action'], 'Casablanca (1942)': ['drama'], 'Moonlight (2016)': ['drama'], 'A Star Is Born (2018)': ['drama', 'music', 'romance'], 'Wonder Woman (2017)': ['adventure', 'action', 'fantasy'], 'Dunkirk (2017)': ['drama', 'war', 'history'], 'Inside Out (2015)': ['comedy', 'fantasy', 'kidsandfamily', 'animation'], 'The Farewell (2019)': ['drama', 'comedy'], 'A Quiet Place (2018)': ['horror', 'mysteryandthriller'], 'Modern Times (1936)': ['comedy'], 'Eighth Grade (2018)': ['drama', 'comedy'], 'It Happened One Night (1934)': ['romance'], 'Booksmart (2019)': ['comedy'], 'A Night at the Opera (1935)': ['comedy'], 'Roma (2018)': ['drama'], 'The Third Man (1949)': ['mysteryandthriller'], 'Coco (2017)': ['music', 'kidsandfamily', 'animation', 'adventure', 'comedy'], 'Thor: Ragnarok (2017)': ['fantasy', 'comedy', 'scifi', 'adventure', 'action'], 'The Shape of Water (2017)': ['fantasy', 'romance'], 'Spotlight (2015)': ['drama'], 'Selma (2014)': ['drama', 'history'], 'The Godfather (1972)': ['drama', 'crime'], 'La Grande illusion (Grand Illusion) (1938)': ['drama', 'war'], 'Arrival (2016)': ['drama', 'scifi', 'mysteryandthriller'], \"Singin' in the Rain (1952)\": ['comedy', 'musical'], 'Snow White and the Seven Dwarfs (1937)': ['fantasy', 'animation', 'kidsandfamily'], 'Logan (2017)': ['fantasy', 'adventure', 'action'], 'The Cabinet of Dr. Caligari (Das Cabinet des Dr. Caligari) (1920)': ['horror'], 'Double Indemnity (1944)': ['drama', 'crime'], 'The Favourite (2018)': ['drama', 'comedy'], 'The Big Sick (2017)': ['romance'], 'Spider-Man: Far From Home (2019)': ['fantasy', 'adventure', 'action', 'comedy'], 'E.T. The Extra-Terrestrial (1982)': ['adventure', 'scifi', 'kidsandfamily'], 'Star Wars: The Last Jedi (2017)': ['fantasy', 'adventure', 'scifi', 'action'], 'All About Eve (1950)': ['drama'], 'Shadow of a Doubt (1943)': ['drama', 'mysteryandthriller', 'crime'], 'The Kid (1921)': ['drama', 'comedy'], 'Paddington 2 (2018)': ['adventure', 'kidsandfamily', 'comedy']}\n"
     ]
    }
   ],
   "source": [
    "#dict created that store movies and their genre\n",
    "movie_genre = dict()\n",
    "#we go through movie name and visit the site \n",
    "for key in movie_dict:\n",
    "    html = urllib.request.urlopen(movie_dict[key]).read()\n",
    "#     soup = BeautifulSoup(html, 'lxml')\n",
    "#     genre = soup.find('div', class_= 'meta-value genre')\n",
    "#     text=genre.text\n",
    "#     genre_text = text.split('\\n')\n",
    "    \n",
    "#     html = urllib.request.urlopen(movie_dict['Avengers: Endgame (2019)']).read()\n",
    "    soup = BeautifulSoup(html, 'lxml')\n",
    "    genre = soup.find('div', class_= 'meta-value genre')\n",
    "    text=genre.text\n",
    "    text = text.strip()\n",
    "    genre_list = text.split(',')\n",
    "    genre_final=[]\n",
    "    #here cleaning is done since rotten tomatoes included white space and new line spaces\n",
    "    for genre in genre_list:\n",
    "        genre = genre.replace(' ','')\n",
    "        genre = genre.replace('\\n','')\n",
    "        genre_final.append(genre)\n",
    "    movie_genre[key] = genre_final\n",
    "    \n",
    "print(movie_genre)\n"
   ]
  },
  {
   "cell_type": "code",
   "execution_count": 292,
   "metadata": {},
   "outputs": [],
   "source": [
    "#here we store dictionary in csv file \n",
    "csv_columns = ['Movie','Genre']\n",
    "with open('rotten.csv', 'w') as f:\n",
    "    writer = csv.writer(f)\n",
    "    writer.writerow(csv_columns)\n",
    "    for key in movie_genre:\n",
    "        for genre in movie_genre[key]:\n",
    "            writer.writerow([key,genre])\n",
    "f.close()"
   ]
  },
  {
   "cell_type": "code",
   "execution_count": 294,
   "metadata": {},
   "outputs": [
    {
     "name": "stdout",
     "output_type": "stream",
     "text": [
      "{'drama': 39, 'crime': 13, 'action': 13, 'biography': 5, 'history': 2, 'adventure': 12, 'western': 2, 'romance': 4, 'sci-fi': 6, 'fantasy': 4, 'mystery': 5, 'comedy': 6, 'thriller': 5, 'family': 3, 'war': 3, 'animation': 3, 'music': 2, 'horror': 1}\n"
     ]
    }
   ],
   "source": [
    "#here we use the dictionary that contains movie and genre value to make a genre count of imdb \n",
    "imdb_vecor = dict()\n",
    "for key in movie_genre_dict:\n",
    "    for genre in movie_genre_dict[key]:\n",
    "        genre = genre.lower()\n",
    "        if genre not in imdb_vecor.keys():\n",
    "            imdb_vecor[genre] = 0\n",
    "        imdb_vecor[genre]+=1\n",
    "print(imdb_vecor)"
   ]
  },
  {
   "cell_type": "code",
   "execution_count": 295,
   "metadata": {},
   "outputs": [
    {
     "name": "stdout",
     "output_type": "stream",
     "text": [
      "{'drama': 74, 'mystery': 14, 'thriller': 26, 'crime': 11, 'romance': 24, 'war': 11, 'film-noir': 5, 'comedy': 18, 'musical': 6, 'history': 15, 'fantasy': 10, 'animation': 11, 'family': 12, 'adventure': 9, 'western': 5, 'action': 8, 'sport': 1, 'documentary': 6, 'biography': 7, 'horror': 4, 'music': 4, 'sci-fi': 3}\n"
     ]
    }
   ],
   "source": [
    "#here we use the dictionary that contains movie and genre value to make a genre count of metacritic\n",
    "metacritic_vecor = dict()\n",
    "for key in metacritic:\n",
    "    for genre in metacritic[key]:\n",
    "        genre = genre.lower()\n",
    "        if genre not in metacritic_vecor.keys():\n",
    "            metacritic_vecor[genre] = 0\n",
    "        metacritic_vecor[genre]+=1\n",
    "print(metacritic_vecor)"
   ]
  },
  {
   "cell_type": "code",
   "execution_count": 296,
   "metadata": {},
   "outputs": [
    {
     "name": "stdout",
     "output_type": "stream",
     "text": [
      "{'fantasy': 13, 'action': 10, 'adventure': 14, 'scifi': 5, 'horror': 4, 'mysteryandthriller': 7, 'kidsandfamily': 8, 'animation': 5, 'comedy': 18, 'drama': 21, 'musical': 2, 'crime': 5, 'music': 2, 'romance': 4, 'war': 2, 'history': 2}\n"
     ]
    }
   ],
   "source": [
    "#here we use the dictionary that contains movie and genre value to make a genre count of rotten tomatoes\n",
    "rotten_vecor = dict()\n",
    "for key in movie_genre:\n",
    "    for genre in movie_genre[key]:\n",
    "        genre = genre.lower()\n",
    "        if genre not in rotten_vecor.keys():\n",
    "            rotten_vecor[genre] = 0\n",
    "        rotten_vecor[genre]+=1\n",
    "print(rotten_vecor)"
   ]
  },
  {
   "cell_type": "code",
   "execution_count": 302,
   "metadata": {},
   "outputs": [
    {
     "name": "stdout",
     "output_type": "stream",
     "text": [
      "[4, 3, 0, 0, 1, 13, 3, 0, 0, 6, 3, 0, 2, 2, 0, 39, 2, 5, 5, 12, 13, 5, 0, 4, 6]\n",
      "[24, 12, 6, 0, 4, 11, 11, 5, 1, 3, 11, 6, 5, 4, 0, 74, 15, 7, 14, 9, 8, 26, 0, 10, 18]\n",
      "[4, 0, 0, 7, 4, 5, 5, 0, 0, 0, 2, 2, 0, 2, 5, 21, 2, 0, 0, 14, 10, 0, 8, 13, 18]\n"
     ]
    }
   ],
   "source": [
    "#common keys set is declared\n",
    "common_keys = set()\n",
    "for key in imdb_vecor:\n",
    "    #if key is not in common key set then its added for imdb vector \n",
    "    if key not in common_keys:\n",
    "        common_keys.add(key)\n",
    "for key in metacritic_vecor:\n",
    "    #if key is not in common key set then its added for metacritic vector \n",
    "    if key not in common_keys:\n",
    "        common_keys.add(key)\n",
    "for key in rotten_vecor:\n",
    "    #if key is not in common key set then its added for rotten tomatoes vector \n",
    "    if key not in common_keys:\n",
    "        common_keys.add(key)\n",
    "imdb_arr = []\n",
    "metacritic_arr = []\n",
    "rotten_arr = []\n",
    "#here we are arranging all the common genres in a proper order and then printing it \n",
    "for key in common_keys:\n",
    "    if key not in imdb_vecor.keys():\n",
    "        imdb_arr.append(0)\n",
    "    else:\n",
    "        imdb_arr.append(imdb_vecor[key])\n",
    "\n",
    "    if key not in metacritic_vecor.keys():\n",
    "        metacritic_arr.append(0)\n",
    "    else:\n",
    "        metacritic_arr.append(metacritic_vecor[key])\n",
    "\n",
    "    if key not in rotten_vecor.keys():\n",
    "        rotten_arr.append(0)\n",
    "    else:\n",
    "        rotten_arr.append(rotten_vecor[key])\n",
    "print(imdb_arr)\n",
    "print(metacritic_arr)\n",
    "print(rotten_arr)"
   ]
  },
  {
   "cell_type": "code",
   "execution_count": 308,
   "metadata": {},
   "outputs": [
    {
     "name": "stdout",
     "output_type": "stream",
     "text": [
      "0.8988372115710783\n",
      "0.7707048953466867\n",
      "0.7130841551904821\n"
     ]
    }
   ],
   "source": [
    "from scipy import spatial\n",
    "#cosine is used to calculate similarity here\n",
    "sim_imdb_meta = 1 - spatial.distance.cosine(imdb_arr, metacritic_arr)\n",
    "sim_imdb_rotten = 1 - spatial.distance.cosine(imdb_arr, rotten_arr)\n",
    "sim_rotten_meta = 1 - spatial.distance.cosine(rotten_arr, metacritic_arr)\n",
    "\n",
    "print(sim_imdb_meta)\n",
    "print(sim_imdb_rotten)\n",
    "print(sim_rotten_meta)"
   ]
  },
  {
   "cell_type": "code",
   "execution_count": null,
   "metadata": {},
   "outputs": [],
   "source": []
  }
 ],
 "metadata": {
  "kernelspec": {
   "display_name": "Python 3",
   "language": "python",
   "name": "python3"
  },
  "language_info": {
   "codemirror_mode": {
    "name": "ipython",
    "version": 3
   },
   "file_extension": ".py",
   "mimetype": "text/x-python",
   "name": "python",
   "nbconvert_exporter": "python",
   "pygments_lexer": "ipython3",
   "version": "3.7.6"
  }
 },
 "nbformat": 4,
 "nbformat_minor": 4
}
